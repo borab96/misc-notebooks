{
 "cells": [
  {
   "cell_type": "markdown",
   "metadata": {},
   "source": [
    "# Gradient descent\n",
    "\n",
    "## Fixed step-size GD\n",
    "\n",
    "Let $f:\\mathbb{R}^n\\to\\mathbb{R}$ be convex and differentiable. We want to solve \n",
    "$$\n",
    "\\min_{x\\in \\mathbb{R}^n} f(x).\n",
    "$$\n",
    "\n",
    "The algorithm is simple:\n",
    "\n",
    "> Choose initial $x_0\\in \\mathbb{R}^n$ and do\n",
    "$$\n",
    "x_k = x_{k-1}-t\\nabla f(x_{k-1})\n",
    "$$\n",
    "$\\forall k>0$. Terminate the iteration at desired accuracy.\n",
    "\n",
    "This is trivial to implement. For the sake of concreteness, let us minimize the MSE cost function that would arise in linear regression:"
   ]
  },
  {
   "cell_type": "code",
   "execution_count": 1,
   "metadata": {},
   "outputs": [
    {
     "name": "stdout",
     "output_type": "stream",
     "text": [
      "compare to [[3.83683938]\n",
      " [3.24855462]]\n",
      "GD optimal theta [[3.94089266]\n",
      " [3.04941442]]\n"
     ]
    },
    {
     "data": {
      "text/plain": [
       "[<matplotlib.lines.Line2D at 0x1f15c8b6370>]"
      ]
     },
     "execution_count": 1,
     "metadata": {},
     "output_type": "execute_result"
    },
    {
     "data": {
      "image/png": "[encoded data removed]",
      "text/plain": [
       "<Figure size 432x288 with 1 Axes>"
      ]
     },
     "metadata": {
      "needs_background": "light"
     },
     "output_type": "display_data"
    }
   ],
   "source": [
    "import numpy as np\n",
    "import matplotlib.pyplot as plt\n",
    "\n",
    "def MSE_GD(x, y, theta, t, prec=10**-4, iter_max=10**3, backtrack=False, eta=0.6):\n",
    "    grad_MSE = lambda _theta: (2/len(x))*x.T.dot(x.dot(_theta)-y) \n",
    "    i = 0\n",
    "    err = [1]\n",
    "    err_benchmark = [5]\n",
    "    theta_benchmark = np.linalg.inv(x.T.dot(x)).dot(x.T).dot(y)\n",
    "    print(\"compare to \"+str(theta_benchmark))\n",
    "    while err[i]>prec or i<iter_max:\n",
    "        theta_prev = theta\n",
    "        if backtrack:\n",
    "            t = backtrack(f_MSE, grad_MSE, x, eta)\n",
    "        theta -= t*grad_MSE(theta)\n",
    "        err.append(np.linalg.norm(theta_prev-theta))\n",
    "        err_benchmark.append(np.linalg.norm(theta_benchmark-theta))\n",
    "        i += 1\n",
    "    return theta, err, err_benchmark\n",
    "\n",
    "l = 100\n",
    "x = np.random.rand(l, 1)\n",
    "y = 4+3*x+np.random.randn(l, 1)\n",
    "x = np.c_[np.ones((l, 1)), x]\n",
    "theta_opt, err, err_bm = MSE_GD(x, y, np.zeros([2,1]), .01)\n",
    "print(\"GD optimal theta \"+str(theta_opt))\n",
    "plt.figure()\n",
    "plt.plot(err_bm, 'k.')"
   ]
  },
  {
   "cell_type": "markdown",
   "metadata": {},
   "source": [
    "### Convergence\n",
    "\n",
    "**Thm** Let $f$ be convex and differentiable and let its gradient be L-Lipschitz continuous. Let the fixed step size be $t\\leq  1/L$. Then, after $k$ iterations, GD will yield a solution $x_k$ such that\n",
    "$$\n",
    "f(x_k)-f(x_*)\\leq \\frac{\\|x_0-x_*\\|_2^2}{2tk}\n",
    "$$\n",
    "where $x_*$ is the true minimizer.\n",
    "\n",
    "**Cor** GD with fixed step size converges with rate $\\mathcal O(k^{-1})$\n",
    "\n",
    "The proof is fairly long though not too involved. Here are some important steps:\n",
    "\n",
    "\n",
    "$f$ is L-smooth $\\implies$ $\\|f(x)-f(y)\\|_2\\leq L\\|x-y\\|_2$. Note the Taylor expansion:\n",
    "$$\n",
    "f(y)=f(x)+\\langle y-x, \\nabla f(x)\\rangle+\\langle y-x, \\text{Hess}_y(y-x) \\rangle+...\n",
    "$$\n",
    "The maximum eigenvalue of the Hessian is upper bounded by $L$. Then, the error is bounded by $\\|y-x\\|_2^2 L/2$ at this order in the expansion. Hence,\n",
    "$$\n",
    "f(y)\\leq f(x)+\\nabla f(x)^T(y-x)+\\frac{L}{2}\\|y-x\\|_2^2.\n",
    "$$\n",
    "In the context of GD $y=x-t\\nabla f(x)$, so:\n",
    "$$\n",
    "f(y)\\leq f(x)-(1-Lt/2)t\\|\\nabla f(x)\\|_2^2\n",
    "$$\n",
    "after some algebra. We asserted that $t\\leq L^{-1}$ which simplifies the expression above to\n",
    "$$\n",
    "f(y)-f(x)\\leq -\\frac{t}{2}\\|\\nabla f(x)\\|_2^2\n",
    "$$\n",
    "which is less than $0$ for finite gradients. Thus, $f$ is bound to decrease with each iteration until it hits $f(x_*)$. This proves that GD always converges if $t$ is chosen to be small enough."
   ]
  },
  {
   "cell_type": "code",
   "execution_count": 86,
   "metadata": {},
   "outputs": [
    {
     "name": "stdout",
     "output_type": "stream",
     "text": [
      "f minimized at x=0.0583 after 288 iterations\n"
     ]
    },
    {
     "data": {
      "image/png": "[encoded data removed]",
      "text/plain": [
       "<Figure size 432x288 with 1 Axes>"
      ]
     },
     "metadata": {
      "needs_background": "light"
     },
     "output_type": "display_data"
    },
    {
     "data": {
      "image/png": "[encoded data removed]",
      "text/plain": [
       "<Figure size 432x288 with 1 Axes>"
      ]
     },
     "metadata": {
      "needs_background": "light"
     },
     "output_type": "display_data"
    }
   ],
   "source": [
    "import numpy as np\n",
    "import matplotlib.pyplot as plt\n",
    "df = lambda x: 4*x**3\n",
    "i = 0\n",
    "err = [None]\n",
    "x = 1\n",
    "t = 1./8\n",
    "x_vec = []\n",
    "while i==0 or err[i]>10**-4:\n",
    "    x_prev = x\n",
    "    x_vec.append(x)\n",
    "    x -= t*df(x) \n",
    "    err.append(abs(x_prev-x))\n",
    "    i += 1\n",
    "err = np.asarray(err)\n",
    "err = err[err != np.array(None)]\n",
    "err_shift = np.roll(err, 1)\n",
    "rho  = err_shift[1:-1]/err[1:-1]\n",
    "print(\"f minimized at x=\"+str(round(x,4))+\" after \"+str(i)+\" iterations\")\n",
    "plt.figure()\n",
    "plt.plot(np.log((x_vec)), '.')\n",
    "plt.xlabel(r\"$n$\")\n",
    "plt.ylabel(r\"$log x_n$\")\n",
    "plt.savefig(\"logxn.png\")\n",
    "plt.figure()\n",
    "plt.plot(rho[1:100]**-1, '.-')\n",
    "plt.plot(np.ones(99))\n",
    "plt.ylim((0,1.6))\n",
    "plt.ylabel(r\"$\\varepsilon_{n+1}/\\varepsilon_{n}$\")\n",
    "plt.savefig(\"error_ratio.png\")"
   ]
  },
  {
   "cell_type": "markdown",
   "metadata": {},
   "source": [
    "## Backtracking Armijo line search to determine step sizes\n",
    "\n",
    "Convergence may be improved by adaptively determining the step size.\n",
    "\n",
    "> Choose an $\\eta\\in(0,1)$ and during each iteration starting with $\\alpha_0=1$ and while\n",
    "$$\n",
    "f(x-\\text{sgn}(\\nabla f(x))\\alpha_j)<f(x)-\\alpha_jc\\| \\nabla f(x)\\|\n",
    "$$\n",
    "for some $c\\in (0,1)$ updating the step sizes according to $\\alpha_j=\\eta\\alpha_{j-1}$. For dimensions greater than 1, one replaces $\\text{sgn}\\nabla f$ with a general $\\hat p$ (which can be chosen as the normalized negative gradient) that indicates the descent direction. \n",
    "\n",
    "Clearly, the line search introduces extra computation cost at each iteration but offers faster convergence because a more or less *correct* step size is used at each step. A step of $\\alpha_k$ at GD iteration $k$ is optimal if it is the\n",
    "$$\n",
    "\\text{argmin}_{\\alpha>0} f(x-\\alpha \\nabla f).\n",
    "$$\n",
    "We approximate this by introducing two hyper parameters and ensuring the chosen step size achieves an acceptable decrease in $f$ in the search direction while ensuring the step size doesn't get too large or too small.\n",
    "\n",
    "\n",
    "\n",
    "Let us implement it for a simple minimization problem:\n",
    "$$\n",
    "\\text{argmin}_{x\\in \\mathbb R}\\left\\{ x^2-2x+5\\right\\}\n",
    "$$"
   ]
  },
  {
   "cell_type": "code",
   "execution_count": 262,
   "metadata": {},
   "outputs": [],
   "source": [
    "import numpy as np\n",
    "import matplotlib.pyplot as plt\n",
    "\n",
    "def backtrack(f, df, x, eta=0.1, c=0.3):\n",
    "    i = 0\n",
    "    alpha = [1]\n",
    "    grad = df(x)\n",
    "    p = -grad\n",
    "    t = -c*p@grad\n",
    "    while f(x)-f(x+alpha[i]*p) < alpha[i]*t:\n",
    "        alpha.append(eta*alpha[i])\n",
    "        i += 1\n",
    "    return alpha[-1]\n",
    "\n",
    "def gd(f, df, x, t=0.2, tol=10**-4, store_intermediate=False):\n",
    "    err = [1000]\n",
    "    x_vec = []\n",
    "    i = 0\n",
    "    while err[i]> tol:\n",
    "        x_prev = x\n",
    "        if store_intermediate:\n",
    "            x_vec.append(x)\n",
    "        x = x-t*df(x)\n",
    "        t = backtrack(f, df, x)\n",
    "        i += 1\n",
    "        err.append(np.linalg.norm(df(x)))\n",
    "    return x, err"
   ]
  },
  {
   "cell_type": "code",
   "execution_count": 256,
   "metadata": {},
   "outputs": [
    {
     "name": "stdout",
     "output_type": "stream",
     "text": [
      "15.273506473629428\n",
      "12.218805178903542\n",
      "9.775044143122834\n",
      "7.820035314498266\n",
      "6.256028251598613\n",
      "5.004822601278891\n",
      "4.003858081023112\n",
      "3.2030864648184894\n",
      "2.5624691718547914\n",
      "2.0499753374838328\n",
      "1.6399802699870663\n",
      "1.3119842159896526\n",
      "1.049587372791722\n",
      "0.8396698982333778\n",
      "0.6717359185867022\n",
      "0.5373887348693615\n",
      "0.4299109878954891\n",
      "0.343928790316391\n",
      "0.2751430322531127\n",
      "0.22011442580249016\n",
      "0.17609154064199212\n",
      "0.1408732325135937\n",
      "0.11269858601087483\n",
      "0.09015886880869961\n",
      "0.0721270950469597\n",
      "0.05770167603756788\n",
      "0.04616134083005405\n",
      "0.036929072664043494\n",
      "0.029543258131234543\n",
      "0.023634606504987634\n",
      "0.018907685203990107\n",
      "0.015126148163192212\n",
      "0.012100918530553518\n",
      "0.009680734824442814\n",
      "0.0077445878595541265\n",
      "0.006195670287643175\n",
      "0.004956536230114289\n",
      "0.003965228984091557\n",
      "0.00317218318727312\n",
      "0.002537746549818496\n",
      "0.0020301972398550482\n",
      "0.0016241577918839128\n",
      "0.0012993262335072558\n",
      "0.0010394609868056791\n",
      "0.0008315687894445432\n",
      "0.0006652550315553833\n",
      "0.0005322040252444323\n",
      "0.00042576322019579704\n",
      "0.0003406105761568889\n",
      "0.00027248846092525986\n",
      "0.0002179907687402079\n",
      "0.00017439261499216632\n",
      "0.00013951409199348185\n",
      "0.00011161127359453426\n",
      "8.92890188756274e-05\n",
      "[1.00003157 1.00003157]\n"
     ]
    },
    {
     "data": {
      "text/plain": [
       "[<matplotlib.lines.Line2D at 0x1d506f639d0>]"
      ]
     },
     "execution_count": 256,
     "metadata": {},
     "output_type": "execute_result"
    },
    {
     "data": {
      "image/png": "[encoded data removed]",
      "text/plain": [
       "<Figure size 432x288 with 1 Axes>"
      ]
     },
     "metadata": {
      "needs_background": "light"
     },
     "output_type": "display_data"
    }
   ],
   "source": [
    "g = lambda x : x.T@(x-2)\n",
    "dg =lambda x : 2*x-2\n",
    "x_res, err = gd(g, dg, np.array([10,10]))\n",
    "print(x_res)\n",
    "plt.plot(err[:50])"
   ]
  },
  {
   "cell_type": "code",
   "execution_count": 269,
   "metadata": {
    "tags": []
   },
   "outputs": [
    {
     "name": "stdout",
     "output_type": "stream",
     "text": [
      "[0.4472136 0.4472136 0.4472136 0.4472136 0.4472136]\n"
     ]
    },
    {
     "data": {
      "text/plain": [
       "2000"
      ]
     },
     "execution_count": 269,
     "metadata": {},
     "output_type": "execute_result"
    }
   ],
   "source": [
    "from scipy.stats import norm, bernoulli\n",
    "d = 5\n",
    "n = 2000\n",
    "beta_ = np.sqrt(1/d)*np.ones(d)\n",
    "print(beta_)\n",
    "x = norm.rvs(size=[n,d])\n",
    "y = bernoulli.rvs(p=1/(1+np.exp(-x@beta_)),size=n)\n",
    "len(y)"
   ]
  },
  {
   "cell_type": "code",
   "execution_count": null,
   "metadata": {},
   "outputs": [],
   "source": [
    "class LogisticRegression:\n",
    "    def __init__(self, lr=0.01, num_iter=100000, fit_intercept=True, verbose=False):\n",
    "        self.lr = lr\n",
    "        self.num_iter = num_iter\n",
    "        self.fit_intercept = fit_intercept\n",
    "    \n",
    "    def __add_intercept(self, X):\n",
    "        intercept = np.ones((X.shape[0], 1))\n",
    "        return np.concatenate((intercept, X), axis=1)\n",
    "    \n",
    "    def __sigmoid(self, z):\n",
    "        return 1 / (1 + np.exp(-z))    \n",
    "    \n",
    "    def __loss(self, h, y):\n",
    "        return (-y * np.log(h) - (1 - y) * np.log(1 - h)).mean()\n",
    "    \n",
    "    def fit(self, X, y):\n",
    "        if self.fit_intercept:\n",
    "            X = self.__add_intercept(X)\n",
    "        self.beta = np.zeros(X.shape[1])\n",
    "        def f(beta_):\n",
    "            return self.__loss( self.__sigmoid(X@beta_), y)\n",
    "        \n",
    "        def df(beta_):\n",
    "            return X.T@(self.__sigmoid(X@beta_)-y)/len(y)#-np.sum(y-self.__sigmoid(X@beta_)*x.T,axis=1)/n\n",
    "        print(f(self.beta))\n",
    "        # def df(x):\n",
    "        #     return x*(self.__sigmoid(X@x)-y) / y.shape[0]\n",
    "        print(df(beta))\n",
    "        self.beta, self.error = gd(f, df, np.zeros(d))\n",
    "#         for i in range(self.num_iter):\n",
    "#             z = X@self.beta\n",
    "#             h = self.__sigmoid(z)\n",
    "#             gradient = np.dot(X.T, (h - y)) / y.size\n",
    "#             self.beta -= self.lr * gradient\n",
    "            \n",
    "#             if(self.verbose == True and i % 10000 == 0):\n",
    "#                 z = np.dot(X, self.theta)\n",
    "#                 h = self.__sigmoid(z)\n",
    "#                 print(f'loss: {self.__loss(h, y)} \\t')\n",
    "    \n",
    "    def predict_prob(self, X):\n",
    "        if self.fit_intercept:\n",
    "            X = self.__add_intercept(X)\n",
    "    \n",
    "        return self.__sigmoid(np.dot(X, self.theta))\n",
    "    \n",
    "    def predict(self, X, threshold):\n",
    "        return self.predict_prob(X) >= threshold"
   ]
  },
  {
   "cell_type": "code",
   "execution_count": 273,
   "metadata": {},
   "outputs": [
    {
     "name": "stdout",
     "output_type": "stream",
     "text": [
      "0.6931471805599454\n",
      "[0.08028148 0.08203066 0.10911857 0.08045426 0.07832292]\n"
     ]
    },
    {
     "name": "stderr",
     "output_type": "stream",
     "text": [
      "C:\\Users\\Bora\\AppData\\Local\\Temp/ipykernel_5692/1903406848.py:12: RuntimeWarning: overflow encountered in exp\n",
      "  return 1 / (1 + np.exp(-z))\n"
     ]
    }
   ],
   "source": [
    "model = LogisticRegression(fit_intercept=False)\n",
    "model.fit(x, y)"
   ]
  },
  {
   "cell_type": "code",
   "execution_count": 274,
   "metadata": {},
   "outputs": [
    {
     "data": {
      "text/plain": [
       "array([0.50827562, 0.45625243, 0.37112677, 0.44228692, 0.5007935 ])"
      ]
     },
     "execution_count": 274,
     "metadata": {},
     "output_type": "execute_result"
    }
   ],
   "source": [
    "model.beta"
   ]
  },
  {
   "cell_type": "code",
   "execution_count": 83,
   "metadata": {},
   "outputs": [
    {
     "data": {
      "text/plain": [
       "2.23606797749979"
      ]
     },
     "execution_count": 83,
     "metadata": {},
     "output_type": "execute_result"
    }
   ],
   "source": [
    "np.linalg.norm([1,2])"
   ]
  },
  {
   "cell_type": "code",
   "execution_count": 30,
   "metadata": {},
   "outputs": [
    {
     "data": {
      "text/plain": [
       "array([0.98203696, 2.08523724, 0.79201997, 0.14705498, 0.06245237])"
      ]
     },
     "execution_count": 30,
     "metadata": {},
     "output_type": "execute_result"
    }
   ],
   "source": [
    "i = 0\n",
    "err = [1]\n",
    "x = -1.1\n",
    "t = 0.33\n",
    "x_vec = t_vec = []\n",
    "while err[i]>10**-4:\n",
    "    x_prev = x\n",
    "    x_vec.append(x)\n",
    "    x -= t*df(x) \n",
    "    t = backtrack(f, df, x)\n",
    "    err.append(abs(x_prev-x))\n",
    "    i += 1\n",
    "print(\"f minimized at x=\"+str(round(x,4))+\" after \"+str(i)+\" iterations using adaptive GD\")\n",
    "plt.figure()\n",
    "plt.plot(np.log(err[1:i+10]), 'k.')\n",
    "plt.ylabel(\"log error\")\n",
    "plt.figure()\n",
    "x_vec = np.asarray(x_vec)\n",
    "x_ = np.linspace(-1.1,2,len(x_vec))\n",
    "plt.plot(x_vec, x_vec**2-2*x_vec+5,'k.-')\n",
    "plt.plot(x_, x_**2-2*x_+5)"
   ]
  },
  {
   "cell_type": "markdown",
   "metadata": {},
   "source": [
    "## Exact line search\n",
    "\n",
    "Not as useful as backtracking, but we could of course compute the optimal step size at each iteration exactly."
   ]
  },
  {
   "cell_type": "code",
   "execution_count": null,
   "metadata": {},
   "outputs": [],
   "source": []
  },
  {
   "cell_type": "markdown",
   "metadata": {},
   "source": [
    "## Stochastic gradient descent\n",
    "\n",
    "Suppose we have access to a noisy version of $f:\\mathbb{R}^n\\to \\mathbb R$, $g(x,Z)$, $Z\\sim p$ such that \n",
    "$$\n",
    "\\mathbb E_p[g(x, Z)]=f(x).\n",
    "$$\n",
    "Note that \n",
    "$$\n",
    "\\mathbb E_p[\\nabla_x g(x, Z)]=f'(x)\n",
    "$$\n",
    "by linearity of both operations. The error metric will be the MSE: $\\varepsilon = \\mathbb E[f(x)]-f(x_*)$ with the assumption that $\\exists!\\hspace{1mm} \\text{argmin}_{x\\in \\mathbb R^n}f(x)$.\n",
    "\n",
    "\n",
    "Let $\\{a_n\\}$ be a positive *deterministic* sequence with the convergence properties \n",
    "$$\n",
    "\\sum_n a_n\\to \\infty\n",
    "$$\n",
    "$$\n",
    "\\sum_n a_n^2<\\infty\n",
    "$$\n",
    "\n",
    "Then we have the algorithm\n",
    "\n",
    "- Initialize $X_1$\n",
    "- For $n=1,2,...$ do until convergence:\n",
    "  - Draw $Z_n$ from $p$\n",
    "  - Update\n",
    "$\n",
    "X_{n+1}=X_n -a_n\\nabla g(x_n, Z_n)\n",
    "$\n"
   ]
  },
  {
   "cell_type": "markdown",
   "metadata": {},
   "source": [
    "As an elementary example, consider $f(x)=x^2/2$ with $g(x,Z) = \\frac{1}{2}(x+Z)^2-\\frac{1}{2}$, $\\mathbb E[Z]=0$, $\\text{var} (Z)=1$"
   ]
  },
  {
   "cell_type": "code",
   "execution_count": 351,
   "metadata": {},
   "outputs": [
    {
     "name": "stdout",
     "output_type": "stream",
     "text": [
      "0.001432026198263841\n"
     ]
    },
    {
     "data": {
      "text/plain": [
       "[<matplotlib.lines.Line2D at 0x1352f8b50>]"
      ]
     },
     "execution_count": 351,
     "metadata": {},
     "output_type": "execute_result"
    },
    {
     "data": {
      "image/png": "[encoded data removed]",
      "text/plain": [
       "<Figure size 432x288 with 1 Axes>"
      ]
     },
     "metadata": {
      "needs_background": "light"
     },
     "output_type": "display_data"
    }
   ],
   "source": [
    "from scipy.stats import norm\n",
    "a = lambda n: n**-1\n",
    "dg = lambda x,z: x+z\n",
    "f = lambda x: x*x/2\n",
    "df = lambda x: x\n",
    "x = 1\n",
    "x_vec = []\n",
    "err_vec = []\n",
    "err = None\n",
    "i = 1\n",
    "while err is None or abs(err)>10**-8:\n",
    "    z = norm.rvs()\n",
    "    x_prev = x\n",
    "    x_vec.append(x)\n",
    "    err = np.abs(np.sum(norm.rvs(size=100)*f(x))/100)\n",
    "    #err = norm.expect(lambda _: f(x))\n",
    "    err_vec.append(err)\n",
    "    x = x-a(i)*dg(x, z)\n",
    "    i += 1\n",
    "print(x)\n",
    "plt.plot(err_vec, '.-')"
   ]
  },
  {
   "cell_type": "code",
   "execution_count": 352,
   "metadata": {},
   "outputs": [
    {
     "data": {
      "text/plain": [
       "[<matplotlib.lines.Line2D at 0x13535ac90>]"
      ]
     },
     "execution_count": 352,
     "metadata": {},
     "output_type": "execute_result"
    },
    {
     "data": {
      "image/png": "[encoded data removed]",
      "text/plain": [
       "<Figure size 432x288 with 1 Axes>"
      ]
     },
     "metadata": {
      "needs_background": "light"
     },
     "output_type": "display_data"
    }
   ],
   "source": [
    "x_vec = np.asarray(x_vec)\n",
    "x_ = np.linspace(-1, 1,len(x_vec))\n",
    "plt.plot(x_vec, x_vec**2/2,'k.--')\n",
    "plt.plot(x_, x_**2/2)"
   ]
  },
  {
   "cell_type": "markdown",
   "metadata": {},
   "source": [
    "### Averaged SGD"
   ]
  },
  {
   "cell_type": "code",
   "execution_count": null,
   "metadata": {},
   "outputs": [],
   "source": []
  }
 ],
 "metadata": {
  "kernelspec": {
   "display_name": "Python 3 (ipykernel)",
   "language": "python",
   "name": "python3"
  },
  "language_info": {
   "codemirror_mode": {
    "name": "ipython",
    "version": 3
   },
   "file_extension": ".py",
   "mimetype": "text/x-python",
   "name": "python",
   "nbconvert_exporter": "python",
   "pygments_lexer": "ipython3",
   "version": "3.9.7"
  }
 },
 "nbformat": 4,
 "nbformat_minor": 4
}
