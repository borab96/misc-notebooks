{
 "cells": [
  {
   "cell_type": "markdown",
   "id": "3d4bc542-d086-4cdd-9bed-cca4de6c7c65",
   "metadata": {},
   "source": [
    "# Logistic regression with backtracking line search"
   ]
  },
  {
   "cell_type": "code",
   "execution_count": 60,
   "id": "b6523db6-5920-4233-9945-a15e129077a2",
   "metadata": {},
   "outputs": [],
   "source": [
    "norm <- function(vec) {return(sqrt(sum(vec^2)))}\n",
    "\n",
    "# def prox_l2_(beta_j, lam):\n",
    "#   return np.maximum(1-lam/(np.sqrt(len(beta_j))*l2(beta_j)), 0)*beta_j\n",
    "\n",
    "prox_l2 <- function(beta_j, lam) {return(beta_j*max(0, 1-lam/norm(beta_j)))}\n",
    "\n",
    "backtrack <- function(f, df, x, eta, k) \n",
    "{\n",
    "    i <- 1\n",
    "    alpha <- c(1)\n",
    "    grad <- df(x)\n",
    "    search_vec <- -grad\n",
    "    t <- -k * t(search_vec)%*%grad\n",
    "    while (f(x)-f(x+alpha[i]*search_vec)<alpha[i]*t)\n",
    "    {\n",
    "        alpha <- c(alpha, eta*alpha[i])\n",
    "        i <- i+1\n",
    "    }\n",
    "    return(tail(alpha, 1))\n",
    "}\n",
    "\n",
    "\n",
    "armijo_gd <- function(f, df, x, y, partition, t=0.2, eta=0.1, k=0.3, tol=10^-6, lam=0.1, max_iter=1000)\n",
    "{\n",
    "    group_num <- length(partition)\n",
    "    i <- 1\n",
    "    error <- c(100)\n",
    "    x_ <- c()\n",
    "    while(tail(error,1)>tol)\n",
    "    {\n",
    "        t <- backtrack(f, df, x, eta, k)\n",
    "        x <- numeric(length(x))\n",
    "        for(j in seq(1, group_num))\n",
    "            {\n",
    "            group_size <- partition[j]*length(y)\n",
    "            print(group_size)\n",
    "            x[j*group_size:(j+1)*group_size] <- prox_l2(x[j*group_size:(j+1)*group_size]-t*df(x)[j*group_size:(j+1)*group_size], lam*t)\n",
    "            }\n",
    "        x_ <- c(x_, x)\n",
    "        i <- i+1\n",
    "        if(i>max_iter){break}\n",
    "        error <- c(error, norm(df(x)))\n",
    "    }\n",
    "    return (list('min_val'=tail(x_, 1), 'error_vector'=error[-1], 'requested_error_vector'=error2))\n",
    "}"
   ]
  },
  {
   "cell_type": "code",
   "execution_count": 80,
   "id": "8ee8fcfb-930b-43c5-9dfb-8539b5e94d73",
   "metadata": {},
   "outputs": [],
   "source": [
    "norm <- function(vec) {return(sqrt(sum(vec^2)))}\n",
    "prox_l2_ <- function(beta_j, lam) {return(beta_j*max(0, 1-lam/norm(beta_j)))}\n",
    "prox_l2 <- function(beta, partition, lam)\n",
    "    {\n",
    "    l2_vec <- c()\n",
    "    beta_ <- numeric(length(beta))\n",
    "    group_num <-length(partition)\n",
    "    for(j in seq(1, group_num))\n",
    "        {\n",
    "        group_size <- partition[j]*length(beta_)\n",
    "        beta_[j*group_size:(j+1)*group_size] <- prox_l2_(beta[j*group_size:(j+1)*group_size], lam)\n",
    "        l2_vec <- c(l2_vec, norm(beta_[j*group_size:(j+1)*group_size]))\n",
    "        }\n",
    "    penalty <- sum(t(l2_vec)%*%sqrt(partition*length(beta)))\n",
    "    return(list('beta'=beta_, 'penalty'=penalty))\n",
    "    }\n",
    "\n",
    "backtrack <- function(f, df, x, eta, k) \n",
    "{\n",
    "    i <- 1\n",
    "    alpha <- c(1)\n",
    "    grad <- df(x)\n",
    "    search_vec <- -grad\n",
    "    t <- -k * t(search_vec)%*%grad\n",
    "    while (f(x)-f(x+alpha[i]*search_vec)<alpha[i]*t)\n",
    "    {\n",
    "        alpha <- c(alpha, eta*alpha[i])\n",
    "        i <- i+1\n",
    "    }\n",
    "    return(tail(alpha, 1))\n",
    "}\n",
    "\n",
    "fit <- function(X, y, partition, t=0.2, eta=0.1, k=0.3, tol=10^-8, lam=0.1)\n",
    "{\n",
    "    d <- length(X[, 1])\n",
    "    beta <- rep(0, d)\n",
    "    df <- function(beta_){return(X%*%(sigmoid(t(X)%*%beta_)-y)/length(y))}\n",
    "    group_num <- length(partition)\n",
    "    i <- 1\n",
    "    error <- c(100)\n",
    "    x_ <- c()\n",
    "    penalty <- 0\n",
    "    while(tail(error,1)>tol)\n",
    "    {\n",
    "        beta <- c(numeric(d))\n",
    "        f <- function(beta_){return(mean(-y*log(sigmoid(t(X)%*%beta_))-(1-y)*log(1- sigmoid(t(X)%*%beta_)))+lam*penalty)} \n",
    "        t <- backtrack(f, df, beta, eta, k) \n",
    "        y_hat <- sigmoid(t(X)%*%beta)\n",
    "        out <- prox_l2(beta-t*X%*%(y_hat-y)/length(X), partition, lam*t)\n",
    "        beta <- out[1]\n",
    "        penalty <- out[2]\n",
    "        print(beta)\n",
    "        error <- c(error, norm(y_hat-y))\n",
    "    }\n",
    "    return (list('min_val'=tail(beta, 1), 'error_vector'=error[-1]))\n",
    "}"
   ]
  },
  {
   "cell_type": "code",
   "execution_count": 78,
   "id": "d4b0c9d5-f465-410a-b25a-d142ce85ee90",
   "metadata": {},
   "outputs": [],
   "source": [
    "n <- 1000\n",
    "d <- 6\n",
    "x <- matrix(rnorm(n*d), nrow=d)\n",
    "y <- matrix(rbinom(n=n,prob=sigmoid(t(x)%*%rep(1/sqrt(d), d)), size=1))"
   ]
  },
  {
   "cell_type": "code",
   "execution_count": 79,
   "id": "372d226d-45d9-4fc2-aa3a-ffc257f844c2",
   "metadata": {},
   "outputs": [
    {
     "name": "stdout",
     "output_type": "stream",
     "text": [
      "$beta\n",
      " [1]  0  0  0  0  0 NA NA NA NA NA NA NA NA NA NA NA NA NA NA NA NA NA NA NA NA\n",
      "[26] NA NA NA NA NA NA NA NA NA NA NA NA NA NA NA\n",
      "\n"
     ]
    },
    {
     "ename": "ERROR",
     "evalue": "Error in lam * penalty: non-numeric argument to binary operator\n",
     "output_type": "error",
     "traceback": [
      "Error in lam * penalty: non-numeric argument to binary operator\nTraceback:\n",
      "1. fit(x, y, c(1/2, 1/2))",
      "2. backtrack(f, df, beta, eta, k)   # at line 47 of file <text>",
      "3. f(x)   # at line 25-29 of file <text>"
     ]
    }
   ],
   "source": [
    "fit(x, y, c(1/2, 1/2))"
   ]
  },
  {
   "cell_type": "code",
   "execution_count": 61,
   "id": "4652d9ef-25f4-4429-a695-3743e81bf189",
   "metadata": {},
   "outputs": [],
   "source": [
    "sigmoid <- function(z){return(1/(1+exp(-z)))}\n",
    "\n",
    "fit <- function(X, y, lr=0.1, tol=10^-8)\n",
    "{\n",
    "    d <- length(X[, 1])\n",
    "    beta <- rep(0, d)\n",
    "    loss <- function(beta_){return(mean(-y*log(s)-(1-y)*log(1-s)))} \n",
    "    f <- function(beta_){return(loss(sigmoid(t(X)%*%beta_)))}\n",
    "    df <- function(beta_){return(X%*%(sigmoid(t(X)%*%beta_)-y)/length(y))}\n",
    "    return(armijo_gd(f, df, beta, rep(1/sqrt(d), d), eta=lr, tol=tol, partition=c(1/2,1/2)))\n",
    "}"
   ]
  },
  {
   "cell_type": "code",
   "execution_count": 62,
   "id": "d094c69d-58ba-41bb-8b5f-eed6a4e067aa",
   "metadata": {},
   "outputs": [],
   "source": [
    "plot_log_error <- function(n, d)\n",
    "{\n",
    "    x <- matrix(rnorm(n*d), nrow=d)\n",
    "    y <- matrix(rbinom(n=n,prob=sigmoid(t(x)%*%rep(1/sqrt(d), d)), size=1))\n",
    "    result <- fit(x, y)\n",
    "    plot(result[[3]], xlab=\"iteration\", ylab='log error')\n",
    "}"
   ]
  },
  {
   "cell_type": "code",
   "execution_count": 63,
   "id": "57db0957-86cb-427a-a74c-ae5ff73671d6",
   "metadata": {},
   "outputs": [
    {
     "name": "stdout",
     "output_type": "stream",
     "text": [
      "[1] 3\n",
      "[1] 3\n"
     ]
    },
    {
     "ename": "ERROR",
     "evalue": "Error in t(X) %*% beta_: non-conformable arguments\n",
     "output_type": "error",
     "traceback": [
      "Error in t(X) %*% beta_: non-conformable arguments\nTraceback:\n",
      "1. plot_log_error(2000, 6)",
      "2. fit(x, y)   # at line 5 of file <text>",
      "3. armijo_gd(f, df, beta, rep(1/sqrt(d), d), eta = lr, tol = tol, \n .     partition = c(1/2, 1/2))   # at line 10 of file <text>",
      "4. prox_l2(x[j * group_size:(j + 1) * group_size] - t * df(x)[j * \n .     group_size:(j + 1) * group_size], lam * t)   # at line 38 of file <text>",
      "5. df(x)   # at line 38 of file <text>",
      "6. sigmoid(t(X) %*% beta_)   # at line 9 of file <text>"
     ]
    }
   ],
   "source": [
    "plot_log_error(2000, 6)\n",
    "plot_log_error(5000, 6)"
   ]
  },
  {
   "cell_type": "code",
   "execution_count": null,
   "id": "d3210106-73db-4d71-8e7a-21f879a742fa",
   "metadata": {},
   "outputs": [],
   "source": []
  },
  {
   "cell_type": "code",
   "execution_count": null,
   "id": "3acdbd65-c48d-4b7a-b78e-f4339d4f7721",
   "metadata": {},
   "outputs": [],
   "source": []
  },
  {
   "cell_type": "code",
   "execution_count": null,
   "id": "08d87381-a739-4179-8e49-c284c01d42ab",
   "metadata": {},
   "outputs": [],
   "source": []
  }
 ],
 "metadata": {
  "kernelspec": {
   "display_name": "R",
   "language": "R",
   "name": "ir"
  },
  "language_info": {
   "codemirror_mode": "r",
   "file_extension": ".r",
   "mimetype": "text/x-r-source",
   "name": "R",
   "pygments_lexer": "r",
   "version": "4.1.2"
  }
 },
 "nbformat": 4,
 "nbformat_minor": 5
}
