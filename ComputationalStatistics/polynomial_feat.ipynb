{
 "cells": [
  {
   "cell_type": "code",
   "execution_count": 83,
   "metadata": {
    "executionInfo": {
     "elapsed": 206,
     "status": "ok",
     "timestamp": 1615335195676,
     "user": {
      "displayName": "Bora B",
      "photoUrl": "https://lh5.googleusercontent.com/-cGRgDczdsWY/AAAAAAAAAAI/AAAAAAAAAqE/dTwRe29bIv0/s64/photo.jpg",
      "userId": "00053841789726261069"
     },
     "user_tz": 360
    },
    "id": "7DiqsJfVDopc"
   },
   "outputs": [],
   "source": [
    "import numpy as np\n",
    "import matplotlib.pyplot as plt\n",
    "import pandas as pd\n",
    "from sklearn.preprocessing import PolynomialFeatures\n",
    "from sklearn.model_selection import train_test_split\n",
    "from sklearn.pipeline import Pipeline\n",
    "from sklearn.linear_model import LinearRegression\n",
    "from sklearn.metrics import mean_squared_error\n",
    "\n",
    "def train_test_val_split(x, y, random_state=None, split=[0.6, 0.2, 0.2]):\n",
    "  \"\"\"\n",
    "    Runs the train test split twice to break data up into train, validation and test sets at ratios specified by\n",
    "    split\n",
    "  \"\"\"\n",
    "  x_train, x_test_val, y_train, y_test_val = train_test_split(x, y, test_size=1-split[0], random_state=random_state)\n",
    "  x_val, x_test, y_val, y_test = train_test_split(x_test_val, y_test_val, test_size=split[1]/(split[1]+split[2]), random_state=random_state)\n",
    "  return x_train, x_val, x_test, y_train, y_val, y_test\n"
   ]
  },
  {
   "cell_type": "markdown",
   "metadata": {
    "id": "iZqF7c48fvuk"
   },
   "source": [
    "# Data"
   ]
  },
  {
   "cell_type": "code",
   "execution_count": 24,
   "metadata": {
    "colab": {
     "base_uri": "https://localhost:8080/",
     "height": 206
    },
    "executionInfo": {
     "elapsed": 222,
     "status": "ok",
     "timestamp": 1615330148979,
     "user": {
      "displayName": "Bora B",
      "photoUrl": "https://lh5.googleusercontent.com/-cGRgDczdsWY/AAAAAAAAAAI/AAAAAAAAAqE/dTwRe29bIv0/s64/photo.jpg",
      "userId": "00053841789726261069"
     },
     "user_tz": 360
    },
    "id": "NeGkk7IND-ze",
    "outputId": "cacf7f97-86c7-4f1e-ce9e-0708b4127625"
   },
   "outputs": [
    {
     "data": {
      "text/html": [
       "<div>\n",
       "<style scoped>\n",
       "    .dataframe tbody tr th:only-of-type {\n",
       "        vertical-align: middle;\n",
       "    }\n",
       "\n",
       "    .dataframe tbody tr th {\n",
       "        vertical-align: top;\n",
       "    }\n",
       "\n",
       "    .dataframe thead th {\n",
       "        text-align: right;\n",
       "    }\n",
       "</style>\n",
       "<table border=\"1\" class=\"dataframe\">\n",
       "  <thead>\n",
       "    <tr style=\"text-align: right;\">\n",
       "      <th></th>\n",
       "      <th>Unnamed: 0</th>\n",
       "      <th>X</th>\n",
       "      <th>Y</th>\n",
       "      <th>Z</th>\n",
       "    </tr>\n",
       "  </thead>\n",
       "  <tbody>\n",
       "    <tr>\n",
       "      <th>0</th>\n",
       "      <td>0</td>\n",
       "      <td>7.324518</td>\n",
       "      <td>3.657837</td>\n",
       "      <td>1693.658572</td>\n",
       "    </tr>\n",
       "    <tr>\n",
       "      <th>1</th>\n",
       "      <td>1</td>\n",
       "      <td>7.838516</td>\n",
       "      <td>8.214597</td>\n",
       "      <td>46111.249973</td>\n",
       "    </tr>\n",
       "    <tr>\n",
       "      <th>2</th>\n",
       "      <td>2</td>\n",
       "      <td>7.149941</td>\n",
       "      <td>0.078071</td>\n",
       "      <td>806.812388</td>\n",
       "    </tr>\n",
       "    <tr>\n",
       "      <th>3</th>\n",
       "      <td>3</td>\n",
       "      <td>6.812724</td>\n",
       "      <td>9.404818</td>\n",
       "      <td>88997.210710</td>\n",
       "    </tr>\n",
       "    <tr>\n",
       "      <th>4</th>\n",
       "      <td>4</td>\n",
       "      <td>5.568275</td>\n",
       "      <td>9.288328</td>\n",
       "      <td>83263.340975</td>\n",
       "    </tr>\n",
       "  </tbody>\n",
       "</table>\n",
       "</div>"
      ],
      "text/plain": [
       "   Unnamed: 0         X         Y             Z\n",
       "0           0  7.324518  3.657837   1693.658572\n",
       "1           1  7.838516  8.214597  46111.249973\n",
       "2           2  7.149941  0.078071    806.812388\n",
       "3           3  6.812724  9.404818  88997.210710\n",
       "4           4  5.568275  9.288328  83263.340975"
      ]
     },
     "execution_count": 24,
     "metadata": {
      "tags": []
     },
     "output_type": "execute_result"
    }
   ],
   "source": [
    "df = pd.read_csv(\"HW5_data.csv\")\n",
    "x = df[[\"X\", \"Y\"]].values\n",
    "y = df.Z.values\n",
    "df.head()"
   ]
  },
  {
   "cell_type": "code",
   "execution_count": null,
   "metadata": {
    "colab": {
     "base_uri": "https://localhost:8080/",
     "height": 300
    },
    "executionInfo": {
     "elapsed": 211,
     "status": "ok",
     "timestamp": 1615328359646,
     "user": {
      "displayName": "Bora B",
      "photoUrl": "https://lh5.googleusercontent.com/-cGRgDczdsWY/AAAAAAAAAAI/AAAAAAAAAqE/dTwRe29bIv0/s64/photo.jpg",
      "userId": "00053841789726261069"
     },
     "user_tz": 360
    },
    "id": "0q5ixcx5Ej6o",
    "outputId": "c995e1b4-c507-42fa-e331-e36594a6f4cc"
   },
   "outputs": [
    {
     "data": {
      "text/html": [
       "<div>\n",
       "<style scoped>\n",
       "    .dataframe tbody tr th:only-of-type {\n",
       "        vertical-align: middle;\n",
       "    }\n",
       "\n",
       "    .dataframe tbody tr th {\n",
       "        vertical-align: top;\n",
       "    }\n",
       "\n",
       "    .dataframe thead th {\n",
       "        text-align: right;\n",
       "    }\n",
       "</style>\n",
       "<table border=\"1\" class=\"dataframe\">\n",
       "  <thead>\n",
       "    <tr style=\"text-align: right;\">\n",
       "      <th></th>\n",
       "      <th>Unnamed: 0</th>\n",
       "      <th>X</th>\n",
       "      <th>Y</th>\n",
       "      <th>Z</th>\n",
       "    </tr>\n",
       "  </thead>\n",
       "  <tbody>\n",
       "    <tr>\n",
       "      <th>count</th>\n",
       "      <td>1000.000000</td>\n",
       "      <td>1000.000000</td>\n",
       "      <td>1000.000000</td>\n",
       "      <td>1000.000000</td>\n",
       "    </tr>\n",
       "    <tr>\n",
       "      <th>mean</th>\n",
       "      <td>499.500000</td>\n",
       "      <td>5.086919</td>\n",
       "      <td>5.126541</td>\n",
       "      <td>20804.621633</td>\n",
       "    </tr>\n",
       "    <tr>\n",
       "      <th>std</th>\n",
       "      <td>288.819436</td>\n",
       "      <td>2.971258</td>\n",
       "      <td>2.832314</td>\n",
       "      <td>29695.495028</td>\n",
       "    </tr>\n",
       "    <tr>\n",
       "      <th>min</th>\n",
       "      <td>0.000000</td>\n",
       "      <td>0.002513</td>\n",
       "      <td>0.016461</td>\n",
       "      <td>5.239307</td>\n",
       "    </tr>\n",
       "    <tr>\n",
       "      <th>25%</th>\n",
       "      <td>249.750000</td>\n",
       "      <td>2.289596</td>\n",
       "      <td>2.726231</td>\n",
       "      <td>1025.555492</td>\n",
       "    </tr>\n",
       "    <tr>\n",
       "      <th>50%</th>\n",
       "      <td>499.500000</td>\n",
       "      <td>5.160793</td>\n",
       "      <td>5.285917</td>\n",
       "      <td>5683.968424</td>\n",
       "    </tr>\n",
       "    <tr>\n",
       "      <th>75%</th>\n",
       "      <td>749.250000</td>\n",
       "      <td>7.750959</td>\n",
       "      <td>7.536397</td>\n",
       "      <td>29508.246037</td>\n",
       "    </tr>\n",
       "    <tr>\n",
       "      <th>max</th>\n",
       "      <td>999.000000</td>\n",
       "      <td>9.986307</td>\n",
       "      <td>9.995078</td>\n",
       "      <td>120302.221250</td>\n",
       "    </tr>\n",
       "  </tbody>\n",
       "</table>\n",
       "</div>"
      ],
      "text/plain": [
       "        Unnamed: 0            X            Y              Z\n",
       "count  1000.000000  1000.000000  1000.000000    1000.000000\n",
       "mean    499.500000     5.086919     5.126541   20804.621633\n",
       "std     288.819436     2.971258     2.832314   29695.495028\n",
       "min       0.000000     0.002513     0.016461       5.239307\n",
       "25%     249.750000     2.289596     2.726231    1025.555492\n",
       "50%     499.500000     5.160793     5.285917    5683.968424\n",
       "75%     749.250000     7.750959     7.536397   29508.246037\n",
       "max     999.000000     9.986307     9.995078  120302.221250"
      ]
     },
     "execution_count": 7,
     "metadata": {
      "tags": []
     },
     "output_type": "execute_result"
    }
   ],
   "source": [
    "df.describe()"
   ]
  },
  {
   "cell_type": "markdown",
   "metadata": {
    "id": "WxDYrOqde0ao"
   },
   "source": [
    "The data is split into training, validation and test sets with ratios $0.6:0.2:0.2$ "
   ]
  },
  {
   "cell_type": "code",
   "execution_count": 56,
   "metadata": {
    "colab": {
     "base_uri": "https://localhost:8080/"
    },
    "executionInfo": {
     "elapsed": 195,
     "status": "ok",
     "timestamp": 1615334230283,
     "user": {
      "displayName": "Bora B",
      "photoUrl": "https://lh5.googleusercontent.com/-cGRgDczdsWY/AAAAAAAAAAI/AAAAAAAAAqE/dTwRe29bIv0/s64/photo.jpg",
      "userId": "00053841789726261069"
     },
     "user_tz": 360
    },
    "id": "1UOmU9DIKsLl",
    "outputId": "e939fb1c-f474-4245-b7d0-51ed86cc4e2d"
   },
   "outputs": [
    {
     "name": "stdout",
     "output_type": "stream",
     "text": [
      "Training size\n",
      "(600, 2)\n",
      "Validation size\n",
      "(200, 2)\n",
      "Test size\n",
      "(200, 2)\n"
     ]
    }
   ],
   "source": [
    "x_train, x_val, x_test, y_train, y_val, y_test = train_test_val_split(x, y)\n",
    "print(\"Training size\")\n",
    "print(x_train.shape)\n",
    "print(\"Validation size\")\n",
    "print(x_val.shape)\n",
    "print(\"Test size\")\n",
    "print(x_test.shape)"
   ]
  },
  {
   "cell_type": "markdown",
   "metadata": {
    "id": "PqPvZllofELa"
   },
   "source": [
    "# Model\n",
    "\n",
    "We are told to apply a polynomial transformation on the features and use linear regression to obtain the optimal coefficients of the polynomial fit. We create a simple pipeline to achieve this. The only hyperparameter is the maximal degree of the polynomial feature map. The feature map ignores the bias but the linear regressor does not which correctly accounts for the data not being centered. \n",
    "\n",
    "In order to tune the degree hyperparameter we sweep the parameter space and compute the MSE on the unseen validation set we had created. I am assuming the question does not require anything beyond this simple approach."
   ]
  },
  {
   "cell_type": "code",
   "execution_count": 72,
   "metadata": {
    "executionInfo": {
     "elapsed": 272,
     "status": "ok",
     "timestamp": 1615334857365,
     "user": {
      "displayName": "Bora B",
      "photoUrl": "https://lh5.googleusercontent.com/-cGRgDczdsWY/AAAAAAAAAAI/AAAAAAAAAqE/dTwRe29bIv0/s64/photo.jpg",
      "userId": "00053841789726261069"
     },
     "user_tz": 360
    },
    "id": "Kj-THfBRG-hb"
   },
   "outputs": [],
   "source": [
    "def poly_fit_pipeline(degree):\n",
    "  polynomial_features = PolynomialFeatures(degree=degree, include_bias=False)\n",
    "  pipeline = Pipeline([(\"polynomial_features\", polynomial_features), (\"linear_regression\", LinearRegression())])\n",
    "  return pipeline\n",
    "\n",
    "degrees = [2,3,4,5,6,7]\n",
    "mse = []\n",
    "\n",
    "for d in degrees:\n",
    "  model = poly_fit_pipeline(d)\n",
    "  model.fit(x_train, y_train)\n",
    "  y_pred = model.predict(x_val)\n",
    "  mse.append(mean_squared_error(y_pred, y_val))"
   ]
  },
  {
   "cell_type": "code",
   "execution_count": 73,
   "metadata": {
    "colab": {
     "base_uri": "https://localhost:8080/",
     "height": 335
    },
    "executionInfo": {
     "elapsed": 438,
     "status": "ok",
     "timestamp": 1615334859613,
     "user": {
      "displayName": "Bora B",
      "photoUrl": "https://lh5.googleusercontent.com/-cGRgDczdsWY/AAAAAAAAAAI/AAAAAAAAAqE/dTwRe29bIv0/s64/photo.jpg",
      "userId": "00053841789726261069"
     },
     "user_tz": 360
    },
    "id": "d4OdggmTU_hj",
    "outputId": "2a6158cd-7daa-4960-9f60-57e558a5fdfc"
   },
   "outputs": [
    {
     "name": "stdout",
     "output_type": "stream",
     "text": [
      "Lowest validation MSE: 0.009\n",
      "Optimal degree: 6\n"
     ]
    },
    {
     "data": {
      "text/plain": [
       "Text(0.5, 0, 'D')"
      ]
     },
     "execution_count": 73,
     "metadata": {
      "tags": []
     },
     "output_type": "execute_result"
    },
    {
     "data": {
      "image/png": "[encoded data removed]",
      "text/plain": [
       "<Figure size 432x288 with 1 Axes>"
      ]
     },
     "metadata": {
      "needs_background": "light",
      "tags": []
     },
     "output_type": "display_data"
    }
   ],
   "source": [
    "print(\"Lowest validation MSE: \"+str(round(np.min(mse),3)))\n",
    "print(\"Optimal degree: \"+str(degrees[np.argmin(mse)]))\n",
    "plt.figure()\n",
    "plt.plot(degrees, np.log(mse))\n",
    "plt.ylabel(r\"$\\log MSE$\")\n",
    "plt.xlabel(\"D\")"
   ]
  },
  {
   "cell_type": "code",
   "execution_count": 79,
   "metadata": {
    "colab": {
     "base_uri": "https://localhost:8080/"
    },
    "executionInfo": {
     "elapsed": 214,
     "status": "ok",
     "timestamp": 1615334990075,
     "user": {
      "displayName": "Bora B",
      "photoUrl": "https://lh5.googleusercontent.com/-cGRgDczdsWY/AAAAAAAAAAI/AAAAAAAAAqE/dTwRe29bIv0/s64/photo.jpg",
      "userId": "00053841789726261069"
     },
     "user_tz": 360
    },
    "id": "ybn-59Xna8AW",
    "outputId": "c9a2ea86-8cd3-439c-f17e-b1ad342eb173"
   },
   "outputs": [
    {
     "name": "stdout",
     "output_type": "stream",
     "text": [
      "Training MSE: 0.008621014128936854\n",
      "Validation MSE: 0.00895723100171667\n",
      "Test MSE: 0.009421933878894272\n"
     ]
    }
   ],
   "source": [
    "model_optimal = poly_fit_pipeline(6)\n",
    "model_optimal.fit(x_train, y_train)\n",
    "mse_train = mean_squared_error(y_train, model.predict(x_train))\n",
    "print(\"Training MSE: \"+str(mse_train))\n",
    "mse_val = mean_squared_error(y_val, model.predict(x_val))\n",
    "print(\"Validation MSE: \"+str(mse_val))\n",
    "mse_test = mean_squared_error(y_test, model.predict(x_test))\n",
    "print(\"Test MSE: \"+str(mse_test) )"
   ]
  },
  {
   "cell_type": "markdown",
   "metadata": {
    "id": "uyuzmZsyf3wN"
   },
   "source": [
    "The optimization over the hyperparameter space indicates that a maximal degree of $6$ is optimal. Notice that the difference between a degree 5 fit and a degree 6 fit is miniscule so one could also go with the less complex model that offers very similar accuracy. We'll stick with $D=6$ though.\n",
    "\n",
    "## Details of the optimal model"
   ]
  },
  {
   "cell_type": "code",
   "execution_count": 82,
   "metadata": {
    "colab": {
     "base_uri": "https://localhost:8080/"
    },
    "executionInfo": {
     "elapsed": 211,
     "status": "ok",
     "timestamp": 1615335076017,
     "user": {
      "displayName": "Bora B",
      "photoUrl": "https://lh5.googleusercontent.com/-cGRgDczdsWY/AAAAAAAAAAI/AAAAAAAAAqE/dTwRe29bIv0/s64/photo.jpg",
      "userId": "00053841789726261069"
     },
     "user_tz": 360
    },
    "id": "4xm0vt6pcRhi",
    "outputId": "ad7e70d6-f3fd-48dd-8a7b-eb280e97ca09"
   },
   "outputs": [
    {
     "name": "stdout",
     "output_type": "stream",
     "text": [
      "Model parameters\n",
      "{'memory': None, 'steps': [('polynomial_features', PolynomialFeatures(degree=6, include_bias=False, interaction_only=False,\n",
      "                   order='C')), ('linear_regression', LinearRegression(copy_X=True, fit_intercept=True, n_jobs=None, normalize=False))], 'verbose': False, 'polynomial_features': PolynomialFeatures(degree=6, include_bias=False, interaction_only=False,\n",
      "                   order='C'), 'linear_regression': LinearRegression(copy_X=True, fit_intercept=True, n_jobs=None, normalize=False), 'polynomial_features__degree': 6, 'polynomial_features__include_bias': False, 'polynomial_features__interaction_only': False, 'polynomial_features__order': 'C', 'linear_regression__copy_X': True, 'linear_regression__fit_intercept': True, 'linear_regression__n_jobs': None, 'linear_regression__normalize': False}\n",
      "regression coefficients\n",
      "[ 8.50234361e-01  9.62565178e-01  2.44544103e-01 -2.94295566e+00\n",
      "  5.06385541e-03  2.24830034e-03  4.74477640e-01  9.21766117e-04\n",
      " -1.47698485e-03  2.97942590e-01  2.64905776e-03  2.57614722e-03\n",
      " -1.42506563e-03  2.57835307e-04  2.44146426e-04 -6.50061514e-07\n",
      " -4.57242498e-04  2.01383539e-04  4.08693006e-06  1.20000278e+00\n",
      " -9.28090109e-06 -4.25226714e-06  9.58005035e-06  1.34097259e-05\n",
      " -2.02810867e-05  7.75568090e-06 -1.56872787e-06]\n",
      "regression intercept\n",
      "5.092513526440598\n"
     ]
    }
   ],
   "source": [
    "print(\"Model parameters\")\n",
    "print(model_optimal.get_params())\n",
    "print(\"regression coefficients\")\n",
    "print(model_optimal['linear_regression'].coef_)\n",
    "print(\"regression intercept\")\n",
    "print(model_optimal['linear_regression'].intercept_)\n"
   ]
  }
 ],
 "metadata": {
  "colab": {
   "authorship_tag": "ABX9TyOIkX6EOS8vp+Ahz2TeMhVc",
   "name": "HW5.ipynb",
   "provenance": []
  },
  "kernelspec": {
   "display_name": "Python 3 (ipykernel)",
   "language": "python",
   "name": "python3"
  },
  "language_info": {
   "codemirror_mode": {
    "name": "ipython",
    "version": 3
   },
   "file_extension": ".py",
   "mimetype": "text/x-python",
   "name": "python",
   "nbconvert_exporter": "python",
   "pygments_lexer": "ipython3",
   "version": "3.9.7"
  }
 },
 "nbformat": 4,
 "nbformat_minor": 4
}
