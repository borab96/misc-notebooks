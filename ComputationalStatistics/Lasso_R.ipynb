{
 "cells": [
  {
   "cell_type": "code",
   "execution_count": 1,
   "metadata": {},
   "outputs": [
    {
     "name": "stderr",
     "output_type": "stream",
     "text": [
      "Warning message:\n",
      "\"package 'microbenchmark' was built under R version 4.1.3\"\n"
     ]
    }
   ],
   "source": [
    "library(ggplot2)\n",
    "library(tibble)\n",
    "library(microbenchmark)"
   ]
  },
  {
   "cell_type": "markdown",
   "metadata": {},
   "source": [
    "### Data generator"
   ]
  },
  {
   "cell_type": "code",
   "execution_count": 2,
   "metadata": {},
   "outputs": [],
   "source": [
    "generate_data <- function(n=200, d=100, s=2, seed =42) \n",
    "{\n",
    "    set.seed(seed)\n",
    "    beta <- numeric(length = d)\n",
    "    beta [1:s] <- 1\n",
    "    X <- matrix(rnorm(n*d), nrow=n, ncol=d)\n",
    "    y <- c(X %*% beta) + rnorm(n)\n",
    "    list(X=X, y=y, beta=beta)\n",
    "}\n",
    "data <- generate_data(n=1000, d=400, s=4, seed =58)"
   ]
  },
  {
   "cell_type": "markdown",
   "metadata": {},
   "source": [
    "### Helpers"
   ]
  },
  {
   "cell_type": "code",
   "execution_count": 3,
   "metadata": {},
   "outputs": [],
   "source": [
    "linspace <- function(x1, x2, n=100) {\n",
    "    stopifnot(is.numeric(x1), is.numeric(x2), length(x1)==1, length(x2)==1)\n",
    "    n <- floor(n)\n",
    "    if (n <= 1) x2\n",
    "    else seq(x1, x2, length.out=n)\n",
    "}\n",
    "hess.loss.max <- function(X)\n",
    "{\n",
    "    hess.loss = 2 * (t(X) %*% X)\n",
    "    hess.ev = eigen(hess.loss)$values\n",
    "    return(max(hess.ev))\n",
    "}\n",
    "l1.norm <- function(a) {sum(abs(a))}\n",
    "l2.norm <- function(a) {sqrt(sum(a*a))}\n",
    "loss.lasso <- function(X, y, beta, lam){0.5*l2.norm(X%*%beta-y)**2+lam*l1.norm(beta)}\n",
    "backtrack <- function(f, grad, x, eta, k) \n",
    "{\n",
    "    i <- 1\n",
    "    alpha <- c(1)\n",
    "    search_vec <- -grad\n",
    "    t <- -k * t(search_vec)%*%grad\n",
    "    while (f(x)-f(x+alpha[i]*search_vec)<alpha[i]*t)\n",
    "    {\n",
    "        alpha <- c(alpha, eta*alpha[i])\n",
    "        i <- i+1\n",
    "    }\n",
    "    return(tail(alpha, 1))\n",
    "}"
   ]
  },
  {
   "cell_type": "markdown",
   "metadata": {},
   "source": [
    "### GD steps"
   ]
  },
  {
   "cell_type": "code",
   "execution_count": 4,
   "metadata": {},
   "outputs": [],
   "source": [
    "gd_step.sub_grad <- function(X, y, beta_, t, lam) {beta_-t* (t(X)%*%(X%*%beta_-y)+lam*sign(beta_))}"
   ]
  },
  {
   "cell_type": "code",
   "execution_count": 5,
   "metadata": {},
   "outputs": [],
   "source": [
    "prox.l1 <- function(x, lam){sign(x)*pmax(abs(x)-lam, 0)}\n",
    "gd_step.prox <- function(X, y, beta_, t, lam) {prox.l1(beta_-t*t(X)%*%(X%*%beta_-y), lam*t)}"
   ]
  },
  {
   "cell_type": "code",
   "execution_count": 6,
   "metadata": {},
   "outputs": [],
   "source": [
    "gd_step.acc_prox <- function(X, y, beta_, beta_prev, t, lam, k)\n",
    "{\n",
    "    v <- beta_+(k/(k+3))*(beta_-beta_prev)\n",
    "    return(prox.l1(v-t*t(X)%*%(X%*%v-y), lam*t))\n",
    "}"
   ]
  },
  {
   "cell_type": "markdown",
   "metadata": {},
   "source": [
    "### Fitters"
   ]
  },
  {
   "cell_type": "code",
   "execution_count": 7,
   "metadata": {},
   "outputs": [],
   "source": [
    "fit.lasso <- function(alg, X, y, \n",
    "                      beta_true=NULL, lam=3, max_iter=50, early_stop=0, eta=0.1, k=0.3, back_track=FALSE, t=1)\n",
    "{\n",
    "    d <- dim(X)[2]\n",
    "    beta = numeric(length=d)\n",
    "    betas = list(beta, beta)\n",
    "    loss <- NULL\n",
    "    error <- NULL\n",
    "    iter <- 0\n",
    "    t<-t/hess.loss.max(X)\n",
    "    while(iter<max_iter)\n",
    "    {\n",
    "        iter <- iter+1\n",
    "        y_hat <- X%*%beta\n",
    "        if(back_track)\n",
    "            {t<-backtrack(function(b){loss.lasso(X, y, b, lam)}, t(X)%*%(X%*%beta-y)+lam*sign(beta), beta, eta, k)}\n",
    "        if(alg=='prox'){beta <- gd_step.prox(X, y, beta, t, lam)}\n",
    "        else if(alg=='sub_grad'){beta <- gd_step.sub_grad(X, y, beta, t, lam)}\n",
    "        else if(alg=='acc_prox')\n",
    "        {\n",
    "            betas <- append(betas, list(gd_step.acc_prox(X, y, rev(betas)[[1]], rev(betas)[[2]], t, lam, iter)))\n",
    "            if(length(betas)>2){betas<-betas[-1]}\n",
    "            beta <- rev(betas)[[1]]\n",
    "        }\n",
    "        else {stop('invalid algorithm')}\n",
    "        loss <- c(loss, loss.lasso(X, y, beta, lam))\n",
    "        if(!is.null(beta_true))\n",
    "        {\n",
    "            log_loss <- log(tail(loss, 1))-log(loss.lasso(X, y, beta_true, lam))\n",
    "            error <- c(error, log_loss)\n",
    "        }\n",
    "        if(iter==early_stop){break}\n",
    "    }\n",
    "    return(list(y_pred=X%*%beta, beta=beta, loss=loss/length(y),  error=error))\n",
    "}"
   ]
  },
  {
   "cell_type": "code",
   "execution_count": 8,
   "metadata": {},
   "outputs": [],
   "source": [
    "data <- generate_data(n=400, d=400, s=300, seed =58)\n",
    "model.prox <- fit.lasso('prox', data$X, data$y, data$beta)\n",
    "model.sub_grad <- fit.lasso('sub_grad', data$X, data$y, data$beta)\n",
    "model.acc_prox <- fit.lasso('acc_prox', data$X, data$y, data$beta)"
   ]
  },
  {
   "cell_type": "code",
   "execution_count": 9,
   "metadata": {},
   "outputs": [],
   "source": [
    "prox.overfit <- which.max(model.prox$error<0)\n",
    "sub_grad.overfit <- which.max(model.sub_grad$error<0)\n",
    "acc_prox.overfit <- which.max(model.acc_prox$error<0)"
   ]
  },
  {
   "cell_type": "code",
   "execution_count": 10,
   "metadata": {},
   "outputs": [],
   "source": [
    "df <- tibble(n.iter = 1:length(model.prox$error) ,\n",
    "prox.error = model.prox$error ,\n",
    "sub_grad.error = model.sub_grad$error,\n",
    "acc_prox.error = model.acc_prox$error)"
   ]
  },
  {
   "cell_type": "code",
   "execution_count": 11,
   "metadata": {},
   "outputs": [
    {
     "data": {
      "text/html": [
       "<strong>null device:</strong> 1"
      ],
      "text/latex": [
       "\\textbf{null device:} 1"
      ],
      "text/markdown": [
       "**null device:** 1"
      ],
      "text/plain": [
       "null device \n",
       "          1 "
      ]
     },
     "metadata": {},
     "output_type": "display_data"
    },
    {
     "data": {
      "image/png": "[encoded data removed]",
      "text/plain": [
       "plot without title"
      ]
     },
     "metadata": {
      "image/png": {
       "height": 420,
       "width": 420
      }
     },
     "output_type": "display_data"
    }
   ],
   "source": [
    "# pdf('30conv4.pdf', width=10, height =6)\n",
    "ggplot(data=df, aes(x=n.iter)) +\n",
    "geom_line(aes(y=prox.error , color='proximal'), lwd=1.5) +\n",
    "geom_line(aes(y=sub_grad.error , color='subgradient'), lwd=1.5) +\n",
    "geom_line(aes(y=acc_prox.error, color='accelerated proximal'), lwd=1.5) +\n",
    "ylab('Log error') +\n",
    "xlab('epoch ') +\n",
    "theme_bw() +\n",
    "theme(legend.position='bottom', text = element_text(size = 16))\n",
    "dev.off()"
   ]
  },
  {
   "cell_type": "code",
   "execution_count": 12,
   "metadata": {},
   "outputs": [
    {
     "data": {
      "text/html": [
       "0.000325426713537534"
      ],
      "text/latex": [
       "0.000325426713537534"
      ],
      "text/markdown": [
       "0.000325426713537534"
      ],
      "text/plain": [
       "[1] 0.0003254267"
      ]
     },
     "metadata": {},
     "output_type": "display_data"
    }
   ],
   "source": [
    "L <- hess.loss.max(data$X)\n",
    "1/L"
   ]
  },
  {
   "cell_type": "code",
   "execution_count": 13,
   "metadata": {},
   "outputs": [],
   "source": [
    "n.reps <- 1000\n",
    "bench <- summary(microbenchmark(\n",
    "    gd_step.prox(data$X, data$y, numeric(length=dim(data$X)[2]), 0.01, 1),\n",
    "    gd_step.sub_grad(data$X, data$y, numeric(length=dim(data$X)[2]), 0.01, 1),\n",
    "    gd_step.acc_prox(data$X, data$y, numeric(length=dim(data$X)[2]), numeric(length=dim(data$X)[2])+1/dim(data$X)[2],0.01, 0.1, 2),\n",
    "    unit='ms',\n",
    "    times=n.reps))"
   ]
  },
  {
   "cell_type": "code",
   "execution_count": 14,
   "metadata": {},
   "outputs": [
    {
     "name": "stdout",
     "output_type": "stream",
     "text": [
      "\u001b[90m# A tibble: 3 x 3\u001b[39m\n",
      "   iter overfit total\n",
      "  \u001b[3m\u001b[90m<dbl>\u001b[39m\u001b[23m   \u001b[3m\u001b[90m<int>\u001b[39m\u001b[23m \u001b[3m\u001b[90m<dbl>\u001b[39m\u001b[23m\n",
      "\u001b[90m1\u001b[39m 0.870      48  41.8\n",
      "\u001b[90m2\u001b[39m 0.897      48  43.0\n",
      "\u001b[90m3\u001b[39m 0.880      15  13.2\n"
     ]
    }
   ],
   "source": [
    "print(tibble(iter=bench$mean ,\n",
    "overfit=c(prox.overfit , sub_grad.overfit, acc_prox.overfit),\n",
    "total=c(prox.overfit *bench$mean[1],\n",
    "sub_grad.overfit * bench$mean [2], acc_prox.overfit *bench$mean[3])))"
   ]
  },
  {
   "cell_type": "code",
   "execution_count": null,
   "metadata": {},
   "outputs": [],
   "source": []
  },
  {
   "cell_type": "code",
   "execution_count": null,
   "metadata": {},
   "outputs": [],
   "source": []
  }
 ],
 "metadata": {
  "colab": {
   "collapsed_sections": [],
   "name": "GroupLasso.ipynb",
   "provenance": []
  },
  "kernelspec": {
   "display_name": "R",
   "language": "R",
   "name": "ir"
  },
  "language_info": {
   "codemirror_mode": "r",
   "file_extension": ".r",
   "mimetype": "text/x-r-source",
   "name": "R",
   "pygments_lexer": "r",
   "version": "4.1.2"
  }
 },
 "nbformat": 4,
 "nbformat_minor": 4
}
