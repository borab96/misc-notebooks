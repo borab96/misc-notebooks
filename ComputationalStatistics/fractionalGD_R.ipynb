{
 "cells": [
  {
   "cell_type": "markdown",
   "id": "e200273e-4d82-427f-bf59-86eada6440ae",
   "metadata": {},
   "source": [
    "# Fractional GD"
   ]
  },
  {
   "cell_type": "code",
   "execution_count": 2,
   "id": "5dac18d1-8f5e-4443-9a8a-a7d7073ac125",
   "metadata": {},
   "outputs": [
    {
     "name": "stderr",
     "output_type": "stream",
     "text": [
      "Warning message:\n",
      "\"package 'fracdiff' was built under R version 4.1.3\"\n"
     ]
    }
   ],
   "source": [
    "library('fracdiff')"
   ]
  },
  {
   "cell_type": "markdown",
   "id": "064e226a-5d10-47f2-9ae9-7ef26a05ddaa",
   "metadata": {},
   "source": [
    "## Wectorized Caputo derivative."
   ]
  },
  {
   "cell_type": "code",
   "execution_count": 1,
   "id": "9fca4fdd-ad36-4785-8d12-50163b43a81a",
   "metadata": {},
   "outputs": [],
   "source": [
    "caputo.derivative <- function(x, s, deriv, a=0)\n",
    "{   \n",
    "    if(deriv(x)==0){return(0)}\n",
    "    integrand <- function(tau) {(1/gamma(1-s))*deriv(tau)/(x-tau)**s}\n",
    "    return(integrate(integrand, lower = a, upper = x)$value)\n",
    "}\n",
    "v.caputo.derivative <- Vectorize(caputo.derivative, \"x\")"
   ]
  },
  {
   "cell_type": "code",
   "execution_count": 52,
   "id": "a73da5b5-57d4-4f5e-a4f6-f3b31ef6b7e9",
   "metadata": {},
   "outputs": [],
   "source": [
    "generate_data <- function(n=200, d=100, s=2, seed =42) \n",
    "{\n",
    "    set.seed(seed)\n",
    "    beta <- numeric(length = d)\n",
    "    beta [1:s] <- 1\n",
    "    X <- matrix(rnorm(n*d), nrow=n, ncol=d)\n",
    "    y <- c(X %*% beta) + rnorm(n)\n",
    "    list(X=X, y=y, beta=beta)\n",
    "}\n",
    "data <- generate_data(n=1000, d=50, s=4, seed =58)"
   ]
  },
  {
   "cell_type": "code",
   "execution_count": 57,
   "id": "7b06a01b-1471-4a60-925f-8571ff15f95e",
   "metadata": {},
   "outputs": [],
   "source": [
    "l2.norm <- function(a) {sqrt(sum(a*a))}\n",
    "loss <- function(X, y, beta){0.5*l2.norm(X%*%beta-y)**2}\n",
    "\n",
    "gd_step.frac<- function(X, y, beta, t, s)\n",
    "{\n",
    "    print(t(X)%*%(X%*%beta-y))\n",
    "    grad <- v.caputo.derivative(beta, s, function(beta_){t(X)%*%(X%*%beta_-y)})\n",
    "    return(beta-t*grad)\n",
    "}\n",
    "\n",
    "gd_step<- function(X, y, beta_, t)\n",
    "{\n",
    "    grad <- t(X)%*%(X%*%beta_-y)\n",
    "    return(beta_-t*grad)\n",
    "}\n",
    "\n",
    "\n",
    "fit <- function(alg, X, y,beta_true=NULL,max_iter=50, t=0.01, early_stop=0, s=0.8)\n",
    "{\n",
    "    d <- dim(X)[2]\n",
    "    beta = numeric(length=d)\n",
    "    loss <- NULL\n",
    "    error <- NULL\n",
    "    iter <- 0\n",
    "    while(iter<max_iter)\n",
    "    {\n",
    "        iter <- iter+1\n",
    "        if(alg=='fractional'){beta <- gd_step.frac(X, y, beta, t, s)}\n",
    "        else if(alg=='integer'){beta <- gd_step(X, y, beta, t)}\n",
    "        else {stop('invalid algorithm')}\n",
    "        loss <- c(loss, loss(X, y, beta))\n",
    "        if(!is.null(beta_true))\n",
    "        {\n",
    "            log_loss <- log(tail(loss, 1))-log(loss(X, y, beta_true))\n",
    "            error <- c(error, log_loss)\n",
    "        }\n",
    "        if(iter==early_stop){break}\n",
    "    }\n",
    "    return(list(y_pred=X%*%beta, beta=beta, loss=loss/length(y),  error=error))\n",
    "}"
   ]
  },
  {
   "cell_type": "code",
   "execution_count": 58,
   "id": "e6fee43c-8805-4dca-927f-c414b73e870c",
   "metadata": {},
   "outputs": [
    {
     "name": "stdout",
     "output_type": "stream",
     "text": [
      "              [,1]\n",
      " [1,]  -962.362264\n",
      " [2,] -1024.274661\n",
      " [3,] -1101.343226\n",
      " [4,] -1075.075927\n",
      " [5,]    41.122815\n",
      " [6,]    65.354736\n",
      " [7,]  -156.709159\n",
      " [8,]    -3.754008\n",
      " [9,]   -12.551336\n",
      "[10,]   -51.957380\n",
      "[11,]   -32.505229\n",
      "[12,]   119.292948\n",
      "[13,]   -35.707397\n",
      "[14,]   -29.409467\n",
      "[15,]   -53.125453\n",
      "[16,]     8.962476\n",
      "[17,]    85.602193\n",
      "[18,]    48.442012\n",
      "[19,]   -79.706880\n",
      "[20,]   203.216383\n",
      "[21,]   -68.060084\n",
      "[22,]   -45.285659\n",
      "[23,]    71.313403\n",
      "[24,]  -114.543872\n",
      "[25,]  -132.601750\n",
      "[26,]    17.949998\n",
      "[27,]    34.043195\n",
      "[28,]    35.667429\n",
      "[29,]   -12.392534\n",
      "[30,]  -107.197927\n",
      "[31,]   -69.406379\n",
      "[32,]  -149.579491\n",
      "[33,]   106.061202\n",
      "[34,]   -33.764101\n",
      "[35,]  -119.779996\n",
      "[36,]    -6.018527\n",
      "[37,]  -103.466648\n",
      "[38,]    14.612610\n",
      "[39,]   -47.763329\n",
      "[40,]  -126.353661\n",
      "[41,]   -56.772647\n",
      "[42,]   -86.802244\n",
      "[43,]    43.268776\n",
      "[44,]  -138.382494\n",
      "[45,]  -109.824874\n",
      "[46,]    60.186868\n",
      "[47,]    46.638315\n",
      "[48,]   147.599649\n",
      "[49,]    71.066906\n",
      "[50,]    26.643910\n"
     ]
    },
    {
     "ename": "ERROR",
     "evalue": "Error in X %*% beta_: non-conformable arguments\n",
     "output_type": "error",
     "traceback": [
      "Error in X %*% beta_: non-conformable arguments\nTraceback:\n",
      "1. fit(\"fractional\", data$X, data$y, data$beta)",
      "2. gd_step.frac(X, y, beta, t, s)   # at line 28 of file <text>",
      "3. v.caputo.derivative(beta, s, function(beta_) {\n .     t(t(X) %*% (X %*% beta_ - y))\n . })   # at line 7 of file <text>",
      "4. do.call(\"mapply\", c(FUN = FUN, args[dovec], MoreArgs = list(args[!dovec]), \n .     SIMPLIFY = SIMPLIFY, USE.NAMES = USE.NAMES))",
      "5. mapply(FUN = function (x, s, deriv, a = 0) \n . {\n .     if (deriv(x) == 0) {\n .         return(0)\n .     }\n .     integrand <- function(tau) {\n .         (1/gamma(1 - s)) * deriv(tau)/(x - tau)^s\n .     }\n .     return(integrate(integrand, lower = a, upper = x)$value)\n . }, x = c(0, 0, 0, 0, 0, 0, 0, 0, 0, 0, 0, 0, 0, 0, 0, 0, 0, 0, \n . 0, 0, 0, 0, 0, 0, 0, 0, 0, 0, 0, 0, 0, 0, 0, 0, 0, 0, 0, 0, 0, \n . 0, 0, 0, 0, 0, 0, 0, 0, 0, 0, 0), MoreArgs = list(s = 0.8, deriv = function (beta_) \n . {\n .     t(t(X) %*% (X %*% beta_ - y))\n . }), SIMPLIFY = TRUE, USE.NAMES = TRUE)",
      "6. (function (x, s, deriv, a = 0) \n . {\n .     if (deriv(x) == 0) {\n .         return(0)\n .     }\n .     integrand <- function(tau) {\n .         (1/gamma(1 - s)) * deriv(tau)/(x - tau)^s\n .     }\n .     return(integrate(integrand, lower = a, upper = x)$value)\n . })(x = dots[[1L]][[1L]], s = 0.8, deriv = function (beta_) \n . {\n .     t(t(X) %*% (X %*% beta_ - y))\n . })",
      "7. deriv(x)   # at line 3 of file <text>",
      "8. t(t(X) %*% (X %*% beta_ - y))   # at line 7 of file <text>"
     ]
    }
   ],
   "source": [
    "fractional.lm = fit('fractional', data$X, data$y, data$beta)"
   ]
  },
  {
   "cell_type": "code",
   "execution_count": 49,
   "id": "002c0922-8568-47f3-b6cc-ae3602afc20b",
   "metadata": {},
   "outputs": [
    {
     "data": {
      "image/png": "[encoded data removed]",
      "text/plain": [
       "plot without title"
      ]
     },
     "metadata": {
      "image/png": {
       "height": 420,
       "width": 420
      }
     },
     "output_type": "display_data"
    }
   ],
   "source": [
    "plot(fractional.lm$loss)"
   ]
  },
  {
   "cell_type": "code",
   "execution_count": null,
   "id": "758e5493-7645-4cfd-bfa0-91d813ca5156",
   "metadata": {},
   "outputs": [],
   "source": []
  }
 ],
 "metadata": {
  "kernelspec": {
   "display_name": "R",
   "language": "R",
   "name": "ir"
  },
  "language_info": {
   "codemirror_mode": "r",
   "file_extension": ".r",
   "mimetype": "text/x-r-source",
   "name": "R",
   "pygments_lexer": "r",
   "version": "4.1.2"
  }
 },
 "nbformat": 4,
 "nbformat_minor": 5
}
