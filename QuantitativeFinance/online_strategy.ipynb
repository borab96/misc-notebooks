{
 "cells": [
  {
   "cell_type": "markdown",
   "metadata": {
    "pycharm": {
     "name": "#%% md\n"
    }
   },
   "source": [
    "# On-line predictive strategy\n",
    "\n",
    "Define a market, $\\mathcal M$, securities we are willing to trade. The relative market performance can be captured by the ratio of closing prices to opening prices\n",
    "$$\n",
    "\\vec \\Delta_{t_k}:=\\frac{\\vec P^{close}_{t_k}}{\\vec P^{open}_{t_k}}.\n",
    "$$\n",
    "Here $\\vec \\Delta\\in\\mathbb R^{|\\mathcal M|}$ and $t_k$ indexes the time bar. I'll take it to mean a single trading day. This performance metric behaves best when $\\vec \\Delta_{t_k}$ is continuous in $t_k$ meaning that the market must open the next day at the closing prices of the previous day. That is, we neglect pre and post market activity.\n",
    "\n",
    "Next, define an online strategy as the algorithm,\n",
    "$$\n",
    "\\mathcal A_t: \\Delta(\\mathcal W_{\\tau\\leq t})\\to \\mathcal W_t,\n",
    "$$\n",
    "where $\\mathcal W_{\\tau\\leq t}$ is the space of allocations over $\\mathcal M$ that are possible up until time $t$:\n",
    "$$\n",
    "\\mathcal W_{t_k} :=\\left\\{\\{w_i\\}_{i=1}^{k} \\in  \\underbrace{\\mathbb R^{|\\mathcal M|}\\times\\cdots\\times \\mathbb R^{|\\mathcal M|}}_k) :\\sum_iw_i=1\\right\\}\n",
    "$$\n",
    "The algorithm, then, considers the past performance of our strategy relative to the performance metric defined above and gives a new allocation vector up to time $t$, at each time step. If an update depends on the future value of $\\vec \\Delta$ we say the algorithm is predictive and use\n",
    "$$\n",
    " \\underbrace{\\Delta_{t_0},\\dots, \\Delta_{t_{k-1}},}_{\\text{realized}}\\overbrace{\\hat\\Delta_{t_k}}^{\\text{forecast}}\n",
    " $$\n"
   ]
  },
  {
   "cell_type": "markdown",
   "metadata": {
    "pycharm": {
     "name": "#%% md\n"
    }
   },
   "source": [
    "## Statistical mechanics of the on-line optimal agent\n",
    "\n",
    "At each time step, $t_k$, the agent/algorithm is faced with making a decision that maximizes the portfolio performance based on a forecast of $t_{k+1}$. Perhaps the immediate concern is to minimize a simple cost function like -expected returns,\n",
    "$-w_{k+1} \\Delta_{k+1}$. This yields\n",
    "$$\n",
    "w_{k+1}^\\star = \\hat \\Delta_{k+1}.\n",
    "$$\n",
    "First notice that if our algorithm predicts $\\hat \\Delta_{k+1}$ no better than a maximum entropy estimate. This optimal update is at odds with the Kelly bet (which would be to do nothing). \n",
    "\n",
    "\n",
    "We clearly have to penalize large entropy updates so that the optimal weight update reflects our confidence in our predictor. The cost function can be written\n",
    "$$\n",
    "F[w;\\beta]=-\\beta (w\\cdot\\Delta)+S\n",
    "$$\n",
    "with $S$ representing some notion of entropy such as the information distance between $w_k$ and $w_{k+1}$. The canonical partition would be\n",
    "$$\n",
    "Z=\\sum_{j=1}^{|\\mathcal M|}  w_{t_i, j}e^{-\\beta\\hat\\Delta_{t_{i+1}, j}}\n",
    "$$\n",
    "and the optimal bet size\n",
    "$$\n",
    "w_{t_{i+1}, j} = \\frac{w_{t_{i}, j} e^{-\\beta\\hat\\Delta_{t_{i+1}, j}}}{Z}\n",
    "$$"
   ]
  },
  {
   "cell_type": "code",
   "execution_count": null,
   "metadata": {
    "collapsed": false,
    "jupyter": {
     "outputs_hidden": false
    },
    "pycharm": {
     "name": "#%%\n"
    }
   },
   "outputs": [],
   "source": []
  }
 ],
 "metadata": {
  "kernelspec": {
   "display_name": "Python 3 (ipykernel)",
   "language": "python",
   "name": "python3"
  },
  "language_info": {
   "codemirror_mode": {
    "name": "ipython",
    "version": 3
   },
   "file_extension": ".py",
   "mimetype": "text/x-python",
   "name": "python",
   "nbconvert_exporter": "python",
   "pygments_lexer": "ipython3",
   "version": "3.9.7"
  }
 },
 "nbformat": 4,
 "nbformat_minor": 4
}